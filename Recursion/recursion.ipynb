{
 "cells": [
  {
   "cell_type": "markdown",
   "metadata": {},
   "source": [
    "### Recusion"
   ]
  },
  {
   "cell_type": "code",
   "execution_count": 2,
   "metadata": {},
   "outputs": [],
   "source": [
    "def fun():\n",
    "    print(\"GFG\")\n",
    "    fun()"
   ]
  },
  {
   "cell_type": "code",
   "execution_count": null,
   "metadata": {},
   "outputs": [
    {
     "ename": "Error",
     "evalue": "Canceled future for execute_request message before replies were done",
     "output_type": "error",
     "traceback": [
      "Error: Canceled future for execute_request message before replies were done",
      "at t.KernelShellFutureHandler.dispose (c:\\Users\\Nikhil Anand\\.vscode-oss\\extensions\\ms-toolsai.jupyter-2022.3.1000901801-universal\\out\\extension.js:2:1204175)",
      "at c:\\Users\\Nikhil Anand\\.vscode-oss\\extensions\\ms-toolsai.jupyter-2022.3.1000901801-universal\\out\\extension.js:2:1223227",
      "at Map.forEach (<anonymous>)",
      "at v._clearKernelState (c:\\Users\\Nikhil Anand\\.vscode-oss\\extensions\\ms-toolsai.jupyter-2022.3.1000901801-universal\\out\\extension.js:2:1223212)",
      "at v.dispose (c:\\Users\\Nikhil Anand\\.vscode-oss\\extensions\\ms-toolsai.jupyter-2022.3.1000901801-universal\\out\\extension.js:2:1216694)",
      "at c:\\Users\\Nikhil Anand\\.vscode-oss\\extensions\\ms-toolsai.jupyter-2022.3.1000901801-universal\\out\\extension.js:2:533674",
      "at t.swallowExceptions (c:\\Users\\Nikhil Anand\\.vscode-oss\\extensions\\ms-toolsai.jupyter-2022.3.1000901801-universal\\out\\extension.js:2:913059)",
      "at dispose (c:\\Users\\Nikhil Anand\\.vscode-oss\\extensions\\ms-toolsai.jupyter-2022.3.1000901801-universal\\out\\extension.js:2:533652)",
      "at t.RawSession.dispose (c:\\Users\\Nikhil Anand\\.vscode-oss\\extensions\\ms-toolsai.jupyter-2022.3.1000901801-universal\\out\\extension.js:2:537330)",
      "at processTicksAndRejections (node:internal/process/task_queues:96:5)"
     ]
    }
   ],
   "source": [
    "fun()"
   ]
  },
  {
   "cell_type": "markdown",
   "metadata": {},
   "source": [
    "`RecusionError:  maximum recursion depth exceeded while calling a Python object`"
   ]
  },
  {
   "cell_type": "markdown",
   "metadata": {},
   "source": [
    "##### Function to print \"GFG\" for certain number of times."
   ]
  },
  {
   "cell_type": "code",
   "execution_count": 13,
   "metadata": {},
   "outputs": [],
   "source": [
    "def func(number):\n",
    "    if number <= 0:\n",
    "        return \n",
    "    else:\n",
    "        func(number - 1)\n",
    "        # print(number)\n",
    "        print(\"GFG\")"
   ]
  },
  {
   "cell_type": "code",
   "execution_count": 14,
   "metadata": {},
   "outputs": [
    {
     "name": "stdout",
     "output_type": "stream",
     "text": [
      "GFG\n",
      "GFG\n",
      "GFG\n",
      "GFG\n",
      "GFG\n"
     ]
    }
   ],
   "source": [
    "func(5)"
   ]
  },
  {
   "cell_type": "markdown",
   "metadata": {},
   "source": [
    "#### Applications of Recursion"
   ]
  },
  {
   "cell_type": "markdown",
   "metadata": {},
   "source": [
    "1) Many algorithms techniques are based on recursion\n",
    ">   `Dynamic Programming`<br/>\n",
    ">    `Backtracking`<br/>\n",
    ">   `Divide and conquer(Binary search, Quick Sort and Merge Sort)`<br/>\n",
    "\n",
    "2) Many problems inherently recursive\n",
    ">   `Tower of Hanoi`<br/>\n",
    ">    `DFS based traversals (DFS of a graph and In-order/Pre-order/Post-order traversal of a tree)`<br/>"
   ]
  },
  {
   "cell_type": "markdown",
   "metadata": {},
   "source": [
    "\n"
   ]
  },
  {
   "cell_type": "markdown",
   "metadata": {},
   "source": [
    "Recursion Practice"
   ]
  },
  {
   "cell_type": "code",
   "execution_count": 17,
   "metadata": {},
   "outputs": [],
   "source": [
    "def fun1(n):\n",
    "    if n == 0:\n",
    "        return\n",
    "    print(n,end=\" \")\n",
    "    fun1(n - 1)\n",
    "    print(n, end=\" \")"
   ]
  },
  {
   "cell_type": "code",
   "execution_count": 18,
   "metadata": {},
   "outputs": [
    {
     "name": "stdout",
     "output_type": "stream",
     "text": [
      "3 2 1 1 2 3 "
     ]
    }
   ],
   "source": [
    "fun1(3)"
   ]
  },
  {
   "cell_type": "markdown",
   "metadata": {},
   "source": [
    "Recursion Practice 2"
   ]
  },
  {
   "cell_type": "code",
   "execution_count": 20,
   "metadata": {},
   "outputs": [],
   "source": [
    "def fun2(n):\n",
    "    if n == 0:\n",
    "        return\n",
    "    fun2(n - 1)\n",
    "    print(n, end=\" \")\n",
    "    fun2(n - 1)"
   ]
  },
  {
   "cell_type": "code",
   "execution_count": 21,
   "metadata": {},
   "outputs": [
    {
     "name": "stdout",
     "output_type": "stream",
     "text": [
      "1 2 1 3 1 2 1 "
     ]
    }
   ],
   "source": [
    "fun2(3)"
   ]
  },
  {
   "cell_type": "markdown",
   "metadata": {},
   "source": [
    "##### Recusion Program to print binary of any number"
   ]
  },
  {
   "cell_type": "code",
   "execution_count": 7,
   "metadata": {},
   "outputs": [],
   "source": [
    "def binaryof(num):\n",
    "    if num == 0:\n",
    "        return\n",
    "    binaryof(num//2)\n",
    "    print(num%2, end=\"\")"
   ]
  },
  {
   "cell_type": "code",
   "execution_count": 8,
   "metadata": {},
   "outputs": [
    {
     "name": "stdout",
     "output_type": "stream",
     "text": [
      "101"
     ]
    }
   ],
   "source": [
    "binaryof(5)"
   ]
  },
  {
   "cell_type": "markdown",
   "metadata": {},
   "source": [
    "##### Sum of N natural numbers"
   ]
  },
  {
   "cell_type": "code",
   "execution_count": 5,
   "metadata": {},
   "outputs": [],
   "source": [
    "def sumofnumbers(num):\n",
    "    if num == 1:\n",
    "        return 1\n",
    "    else:\n",
    "        return num + sumofnumbers(num - 1)"
   ]
  },
  {
   "cell_type": "code",
   "execution_count": 8,
   "metadata": {},
   "outputs": [
    {
     "name": "stdout",
     "output_type": "stream",
     "text": [
      "55\n"
     ]
    }
   ],
   "source": [
    "print(sumofnumbers(10))"
   ]
  },
  {
   "cell_type": "markdown",
   "metadata": {},
   "source": [
    "##### Printing N to 1"
   ]
  },
  {
   "cell_type": "code",
   "execution_count": 20,
   "metadata": {},
   "outputs": [],
   "source": [
    "def ntoone(num):\n",
    "    if num <= 0:\n",
    "        return\n",
    "    print(num, end=\" \")\n",
    "    ntoone(num - 1)"
   ]
  },
  {
   "cell_type": "code",
   "execution_count": 21,
   "metadata": {},
   "outputs": [
    {
     "name": "stdout",
     "output_type": "stream",
     "text": [
      "5 4 3 2 1 None\n"
     ]
    }
   ],
   "source": [
    "print(ntoone(5))"
   ]
  },
  {
   "cell_type": "markdown",
   "metadata": {},
   "source": [
    "##### Printing 1 to N using recursion"
   ]
  },
  {
   "cell_type": "code",
   "execution_count": 22,
   "metadata": {},
   "outputs": [],
   "source": [
    "def oneton(num):\n",
    "    if num <= 0:\n",
    "        return\n",
    "    oneton(num - 1)\n",
    "    print(num, end=\" \")"
   ]
  },
  {
   "cell_type": "code",
   "execution_count": 23,
   "metadata": {},
   "outputs": [
    {
     "name": "stdout",
     "output_type": "stream",
     "text": [
      "1 2 3 4 5 None\n"
     ]
    }
   ],
   "source": [
    "print(oneton(5))"
   ]
  },
  {
   "cell_type": "markdown",
   "metadata": {},
   "source": []
  },
  {
   "cell_type": "markdown",
   "metadata": {},
   "source": [
    "##### Sum of digits using recursion"
   ]
  },
  {
   "cell_type": "code",
   "execution_count": 10,
   "metadata": {},
   "outputs": [],
   "source": [
    "def sumofdigitsusingrecursion(num):\n",
    "    num = int(num)\n",
    "    if num < 10:\n",
    "        return num\n",
    "    return (num % 10) + sumofdigitsusingrecursion(num // 10)\n",
    "        "
   ]
  },
  {
   "cell_type": "code",
   "execution_count": 13,
   "metadata": {},
   "outputs": [
    {
     "data": {
      "text/plain": [
       "18"
      ]
     },
     "execution_count": 13,
     "metadata": {},
     "output_type": "execute_result"
    }
   ],
   "source": [
    "sumofdigitsusingrecursion(125631)"
   ]
  },
  {
   "cell_type": "markdown",
   "metadata": {},
   "source": [
    "##### Tower of Hanoi\n",
    "\n",
    "**Rules**\n",
    "1) Only one disc moves at a time <br/>\n",
    "2) No larger Disc above smaller <br/>\n",
    "3) Only the top disc of a tower can be moved<br/>"
   ]
  },
  {
   "cell_type": "code",
   "execution_count": 14,
   "metadata": {},
   "outputs": [],
   "source": [
    "def towerofhanoi(n, A, B, C):\n",
    "    if n == 1:\n",
    "        print(\"Move 1 from\", A, \"to\", C)\n",
    "    else:\n",
    "        towerofhanoi(n-1, A, C, B)\n",
    "        print(\"Move\", n, \"from\", A, \"to\", C)\n",
    "        towerofhanoi(n-1, B, A, C)\n"
   ]
  },
  {
   "cell_type": "code",
   "execution_count": 20,
   "metadata": {},
   "outputs": [
    {
     "name": "stdout",
     "output_type": "stream",
     "text": [
      "Move 1 from A to B\n",
      "Move 2 from A to C\n",
      "Move 1 from B to C\n"
     ]
    }
   ],
   "source": [
    "towerofhanoi(2, \"A\", \"B\", \"C\")"
   ]
  },
  {
   "cell_type": "markdown",
   "metadata": {},
   "source": [
    "##### Josephus Problem"
   ]
  },
  {
   "cell_type": "markdown",
   "metadata": {},
   "source": [
    "###### using recursion to solve such problems"
   ]
  },
  {
   "cell_type": "code",
   "execution_count": 5,
   "metadata": {},
   "outputs": [],
   "source": [
    "def josephusbyrecursion(n, k):\n",
    "    if n == 1:\n",
    "        return 0\n",
    "    else:\n",
    "        return (josephusbyrecursion(n-1, k) + k ) % n"
   ]
  },
  {
   "cell_type": "code",
   "execution_count": 6,
   "metadata": {},
   "outputs": [
    {
     "data": {
      "text/plain": [
       "3"
      ]
     },
     "execution_count": 6,
     "metadata": {},
     "output_type": "execute_result"
    }
   ],
   "source": [
    "josephusbyrecursion(5, 3)"
   ]
  },
  {
   "cell_type": "markdown",
   "metadata": {},
   "source": [
    "###### Trying josephus problem with iteration"
   ]
  },
  {
   "cell_type": "code",
   "execution_count": 11,
   "metadata": {},
   "outputs": [],
   "source": [
    "def josephusbyiteration(n, k):\n",
    "    arr = [_ for _ in range(1, n+1)]\n",
    "    while len(arr) >= 1:\n",
    "        topop = k\n",
    "        print(topop, len(arr))\n",
    "        arr.pop(topop - 1)\n",
    "        k = k + k - 1\n",
    "        if k > len(arr):\n",
    "            k = len(arr) - k -1\n",
    "    return arr"
   ]
  },
  {
   "cell_type": "code",
   "execution_count": 12,
   "metadata": {},
   "outputs": [
    {
     "name": "stdout",
     "output_type": "stream",
     "text": [
      "2 5\n",
      "3 4\n",
      "-3 3\n"
     ]
    },
    {
     "ename": "IndexError",
     "evalue": "pop index out of range",
     "output_type": "error",
     "traceback": [
      "\u001b[1;31m---------------------------------------------------------------------------\u001b[0m",
      "\u001b[1;31mIndexError\u001b[0m                                Traceback (most recent call last)",
      "\u001b[1;32md:\\pycharm\\DSA\\Recursion\\recursion.ipynb Cell 42'\u001b[0m in \u001b[0;36m<cell line: 1>\u001b[1;34m()\u001b[0m\n\u001b[1;32m----> <a href='vscode-notebook-cell:/d%3A/pycharm/DSA/Recursion/recursion.ipynb#ch0000041?line=0'>1</a>\u001b[0m josephusbyiteration(\u001b[39m5\u001b[39;49m, \u001b[39m2\u001b[39;49m)\n",
      "\u001b[1;32md:\\pycharm\\DSA\\Recursion\\recursion.ipynb Cell 41'\u001b[0m in \u001b[0;36mjosephusbyiteration\u001b[1;34m(n, k)\u001b[0m\n\u001b[0;32m      <a href='vscode-notebook-cell:/d%3A/pycharm/DSA/Recursion/recursion.ipynb#ch0000040?line=3'>4</a>\u001b[0m topop \u001b[39m=\u001b[39m k\n\u001b[0;32m      <a href='vscode-notebook-cell:/d%3A/pycharm/DSA/Recursion/recursion.ipynb#ch0000040?line=4'>5</a>\u001b[0m \u001b[39mprint\u001b[39m(topop, \u001b[39mlen\u001b[39m(arr))\n\u001b[1;32m----> <a href='vscode-notebook-cell:/d%3A/pycharm/DSA/Recursion/recursion.ipynb#ch0000040?line=5'>6</a>\u001b[0m arr\u001b[39m.\u001b[39;49mpop(topop \u001b[39m-\u001b[39;49m \u001b[39m1\u001b[39;49m)\n\u001b[0;32m      <a href='vscode-notebook-cell:/d%3A/pycharm/DSA/Recursion/recursion.ipynb#ch0000040?line=6'>7</a>\u001b[0m k \u001b[39m=\u001b[39m k \u001b[39m+\u001b[39m k \u001b[39m-\u001b[39m \u001b[39m1\u001b[39m\n\u001b[0;32m      <a href='vscode-notebook-cell:/d%3A/pycharm/DSA/Recursion/recursion.ipynb#ch0000040?line=7'>8</a>\u001b[0m \u001b[39mif\u001b[39;00m k \u001b[39m>\u001b[39m \u001b[39mlen\u001b[39m(arr):\n",
      "\u001b[1;31mIndexError\u001b[0m: pop index out of range"
     ]
    }
   ],
   "source": [
    "josephusbyiteration(5, 2)"
   ]
  },
  {
   "cell_type": "code",
   "execution_count": null,
   "metadata": {},
   "outputs": [],
   "source": []
  }
 ],
 "metadata": {
  "interpreter": {
   "hash": "893d973a358b49714e5abb2bb54f0d3c57ce79acb8c36007a2b5c4294b36e18d"
  },
  "kernelspec": {
   "display_name": "Python 3.10.4 64-bit",
   "language": "python",
   "name": "python3"
  },
  "language_info": {
   "codemirror_mode": {
    "name": "ipython",
    "version": 3
   },
   "file_extension": ".py",
   "mimetype": "text/x-python",
   "name": "python",
   "nbconvert_exporter": "python",
   "pygments_lexer": "ipython3",
   "version": "3.10.4"
  },
  "orig_nbformat": 4
 },
 "nbformat": 4,
 "nbformat_minor": 2
}

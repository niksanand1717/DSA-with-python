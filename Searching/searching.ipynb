{
 "cells": [
  {
   "cell_type": "markdown",
   "id": "ff01a10e-3486-48a6-bce2-fe971a28c02d",
   "metadata": {},
   "source": [
    "#### Iterative Binary Search"
   ]
  },
  {
   "cell_type": "code",
   "execution_count": 1,
   "id": "22cbc10b-2b33-4217-8e0c-d73d7c660b03",
   "metadata": {},
   "outputs": [],
   "source": [
    "def iterativebinarysearch(nums, key):\n",
    "    low = 0\n",
    "    high = len(nums) - 1\n",
    "    while low <= high:\n",
    "        mid = (low+high)//2\n",
    "        if nums[mid] == key:\n",
    "            return mid\n",
    "        elif nums[mid] > key:\n",
    "            high = mid - 1\n",
    "        else:\n",
    "            low = mid + 1\n",
    "    else:\n",
    "        return -1\n",
    "            "
   ]
  },
  {
   "cell_type": "code",
   "execution_count": 5,
   "id": "9e65da3b-624a-4a69-8440-715e70a8280c",
   "metadata": {},
   "outputs": [
    {
     "data": {
      "text/plain": [
       "6"
      ]
     },
     "execution_count": 5,
     "metadata": {},
     "output_type": "execute_result"
    }
   ],
   "source": [
    "iterativebinarysearch([10, 20, 30, 40, 50, 60, 70], 70)"
   ]
  },
  {
   "cell_type": "code",
   "execution_count": 6,
   "id": "4b9bd7a8-1e3a-4884-b2fd-cbb77681dc5a",
   "metadata": {},
   "outputs": [
    {
     "data": {
      "text/plain": [
       "-1"
      ]
     },
     "execution_count": 6,
     "metadata": {},
     "output_type": "execute_result"
    }
   ],
   "source": [
    "iterativebinarysearch([10, 20, 30, 40, 50, 60, 70], -5)"
   ]
  },
  {
   "cell_type": "markdown",
   "id": "35b1fe01-0761-49ce-9e7a-e2d450949107",
   "metadata": {},
   "source": [
    "#### Recursive Binary Search"
   ]
  },
  {
   "cell_type": "code",
   "execution_count": 3,
   "id": "1a9d997d-044e-4f3c-891f-63cbd7d4bff2",
   "metadata": {},
   "outputs": [],
   "source": [
    "def recursivebinarysearch(nums, key, low, high):\n",
    "    if low > high:\n",
    "        return -1\n",
    "    mid = (low + high) // 2\n",
    "    if nums[mid] == key:\n",
    "        return mid\n",
    "    elif nums[mid] > key:\n",
    "        return recursivebinarysearch(nums, key, low, mid-1)\n",
    "    elif nums[mid] < key:\n",
    "        return recursivebinarysearch(nums, key, mid+1, high)\n",
    "    elif low > high:\n",
    "        return -1"
   ]
  },
  {
   "cell_type": "code",
   "execution_count": 8,
   "id": "11c4eabe-b646-4073-b11c-d49e77b39bbc",
   "metadata": {},
   "outputs": [
    {
     "data": {
      "text/plain": [
       "2"
      ]
     },
     "execution_count": 8,
     "metadata": {},
     "output_type": "execute_result"
    }
   ],
   "source": [
    "recursivebinarysearch([20, 30, 40, 50, 60, 70], 40, 0, 5)"
   ]
  },
  {
   "cell_type": "markdown",
   "id": "dfd9a8fa-1d4c-4fea-b923-db7a4c1c0326",
   "metadata": {},
   "source": [
    "<p>Time complexity : O(log<sub>2</sub>n)</p><br/>\n",
    "<p>For every <code>h</code> search it covers <code>2<sup>h</sup></code> elements, where <code>h</code> is height of binary search tree</p>\n"
   ]
  },
  {
   "cell_type": "code",
   "execution_count": null,
   "id": "e1438cb2-9121-4a9e-bf21-33c781b25ecf",
   "metadata": {},
   "outputs": [],
   "source": []
  }
 ],
 "metadata": {
  "kernelspec": {
   "display_name": "Python 3 (ipykernel)",
   "language": "python",
   "name": "python3"
  },
  "language_info": {
   "codemirror_mode": {
    "name": "ipython",
    "version": 3
   },
   "file_extension": ".py",
   "mimetype": "text/x-python",
   "name": "python",
   "nbconvert_exporter": "python",
   "pygments_lexer": "ipython3",
   "version": "3.10.4"
  }
 },
 "nbformat": 4,
 "nbformat_minor": 5
}

{
 "cells": [
  {
   "cell_type": "markdown",
   "id": "6a6928e7",
   "metadata": {},
   "source": [
    "### Escape sequences and raw strings"
   ]
  },
  {
   "cell_type": "code",
   "execution_count": 3,
   "id": "39502019",
   "metadata": {},
   "outputs": [],
   "source": [
    "str1 = \"D:\\pycharm\\new\"\n",
    "str2 = r\"D:\\pycharm\\new\""
   ]
  },
  {
   "cell_type": "code",
   "execution_count": 4,
   "id": "7e21c21b",
   "metadata": {},
   "outputs": [
    {
     "name": "stdout",
     "output_type": "stream",
     "text": [
      "D:\\pycharm\n",
      "ew\n",
      "D:\\pycharm\\new\n"
     ]
    }
   ],
   "source": [
    "print(str1)\n",
    "print(str2)"
   ]
  },
  {
   "cell_type": "markdown",
   "id": "a69bd024",
   "metadata": {},
   "source": [
    "##### `r` or `R` is used to input raw string where escape sequences can be easily written"
   ]
  },
  {
   "cell_type": "markdown",
   "id": "4b2f14c5",
   "metadata": {},
   "source": [
    "### Q1. Reverse of String in a Python"
   ]
  },
  {
   "cell_type": "markdown",
   "id": "d1a9f6a2",
   "metadata": {},
   "source": [
    "##### Method 1 (concatenation)"
   ]
  },
  {
   "cell_type": "code",
   "execution_count": 5,
   "id": "1de6479e",
   "metadata": {},
   "outputs": [
    {
     "name": "stdout",
     "output_type": "stream",
     "text": [
      "Enter a string: my name is nikhil\n",
      "lihkin si eman ym\n"
     ]
    }
   ],
   "source": [
    "strr = input(\"Enter a string: \")\n",
    "rev = \"\"\n",
    "for i in strr:\n",
    "    rev = i + rev\n",
    "print(rev)"
   ]
  },
  {
   "cell_type": "markdown",
   "id": "9c741685",
   "metadata": {},
   "source": [
    "##### Method 2 (python string slicing)"
   ]
  },
  {
   "cell_type": "code",
   "execution_count": 6,
   "id": "21cc5f01",
   "metadata": {},
   "outputs": [
    {
     "name": "stdout",
     "output_type": "stream",
     "text": [
      "lihkin si eman ym\n"
     ]
    }
   ],
   "source": [
    "rev2 = strr[::-1]\n",
    "print(rev2)"
   ]
  },
  {
   "cell_type": "markdown",
   "id": "6c53d682",
   "metadata": {},
   "source": [
    "### String comparision in Python"
   ]
  },
  {
   "cell_type": "code",
   "execution_count": 7,
   "id": "19a9cdd4",
   "metadata": {},
   "outputs": [
    {
     "name": "stdout",
     "output_type": "stream",
     "text": [
      "True\n"
     ]
    }
   ],
   "source": [
    "print(strr > rev)"
   ]
  },
  {
   "cell_type": "code",
   "execution_count": 8,
   "id": "851dd293",
   "metadata": {},
   "outputs": [
    {
     "name": "stdout",
     "output_type": "stream",
     "text": [
      "True\n"
     ]
    }
   ],
   "source": [
    "print(rev == rev2)"
   ]
  },
  {
   "cell_type": "code",
   "execution_count": 9,
   "id": "12f64fb8",
   "metadata": {},
   "outputs": [
    {
     "name": "stdout",
     "output_type": "stream",
     "text": [
      "False\n"
     ]
    }
   ],
   "source": [
    "print(strr < rev2)"
   ]
  },
  {
   "cell_type": "markdown",
   "id": "3e93c276-a871-4b56-995d-fcb5a2a4b50d",
   "metadata": {},
   "source": [
    "### Formatted String in Python"
   ]
  },
  {
   "cell_type": "code",
   "execution_count": 4,
   "id": "c7cd126a-9c9b-4dfa-9581-e41bdd1f04f5",
   "metadata": {},
   "outputs": [],
   "source": [
    "name = \"Nikhil Anand\"\n",
    "student_id = 19011717"
   ]
  },
  {
   "cell_type": "markdown",
   "id": "e68b9486-53a0-4cff-aba5-766c8e5df1a1",
   "metadata": {},
   "source": [
    "##### a) using `%s` or `%d` or `%f` as in C"
   ]
  },
  {
   "cell_type": "code",
   "execution_count": 14,
   "id": "5e7d3d0b-d1c8-4609-8eaa-a63d27612c10",
   "metadata": {},
   "outputs": [],
   "source": [
    "strr = \"my name is %s and my student ID is %d\" %(name, student_id)"
   ]
  },
  {
   "cell_type": "code",
   "execution_count": 15,
   "id": "f14b9416-6ea2-4fdf-9e07-df0d186ba24b",
   "metadata": {},
   "outputs": [
    {
     "name": "stdout",
     "output_type": "stream",
     "text": [
      "my name is Nikhil Anand and my student ID is 19011717\n"
     ]
    }
   ],
   "source": [
    "print(strr)"
   ]
  },
  {
   "cell_type": "markdown",
   "id": "9bbd32ae-262c-481e-8b1a-da0117e100e7",
   "metadata": {},
   "source": [
    "##### b) using format() function"
   ]
  },
  {
   "cell_type": "code",
   "execution_count": 16,
   "id": "e154fc6f-3acc-4e2f-a029-d378fccb0be3",
   "metadata": {},
   "outputs": [],
   "source": [
    "strr1 = \"my name is {0} and my student ID is {1}\".format(name, student_id)"
   ]
  },
  {
   "cell_type": "code",
   "execution_count": 17,
   "id": "4d48fa37-884f-49e6-a8c7-56c749d79a13",
   "metadata": {},
   "outputs": [
    {
     "name": "stdout",
     "output_type": "stream",
     "text": [
      "my name is Nikhil Anand and my student ID is 19011717\n"
     ]
    }
   ],
   "source": [
    "print(strr1)"
   ]
  },
  {
   "cell_type": "markdown",
   "id": "8b535c15-b187-467f-a2e5-a861b4b8aa2d",
   "metadata": {},
   "source": [
    "##### c) using f-string"
   ]
  },
  {
   "cell_type": "code",
   "execution_count": 18,
   "id": "34e0596f-5685-419b-b4ad-c03304088551",
   "metadata": {},
   "outputs": [],
   "source": [
    "strr2 = f\"my name is {name} and my student ID is {student_id}\""
   ]
  },
  {
   "cell_type": "code",
   "execution_count": 20,
   "id": "92653290-a973-4137-99cf-9c4b2077d159",
   "metadata": {},
   "outputs": [
    {
     "name": "stdout",
     "output_type": "stream",
     "text": [
      "my name is Nikhil Anand and my student ID is 19011717\n"
     ]
    }
   ],
   "source": [
    "print(strr2)"
   ]
  },
  {
   "cell_type": "markdown",
   "id": "614ecfd9-5e09-47c3-84be-574f2d4e7b9c",
   "metadata": {},
   "source": [
    "### String (finding patterns in a string)"
   ]
  },
  {
   "cell_type": "code",
   "execution_count": 4,
   "id": "4d49fae4-f182-4483-92be-ecc5600498ef",
   "metadata": {},
   "outputs": [
    {
     "name": "stdin",
     "output_type": "stream",
     "text": [
      "Enter a string:  hi my name is nikhil\n",
      "Enter pattern:  i\n"
     ]
    }
   ],
   "source": [
    "string = input(\"Enter a string: \")\n",
    "pattern = input(\"Enter pattern: \")"
   ]
  },
  {
   "cell_type": "code",
   "execution_count": 5,
   "id": "f8eb9b26-33e6-4e34-ae87-caab48434150",
   "metadata": {},
   "outputs": [
    {
     "name": "stdout",
     "output_type": "stream",
     "text": [
      "1\n",
      "11\n",
      "15\n",
      "18\n"
     ]
    }
   ],
   "source": [
    "pos = string.find(pattern)\n",
    "while pos >= 0:\n",
    "    print(pos)\n",
    "    pos = string.find(pattern, pos+1)"
   ]
  },
  {
   "cell_type": "code",
   "execution_count": null,
   "id": "8166e5a7-281d-4f19-8006-79264348e571",
   "metadata": {},
   "outputs": [],
   "source": []
  }
 ],
 "metadata": {
  "kernelspec": {
   "display_name": "Python 3 (ipykernel)",
   "language": "python",
   "name": "python3"
  },
  "language_info": {
   "codemirror_mode": {
    "name": "ipython",
    "version": 3
   },
   "file_extension": ".py",
   "mimetype": "text/x-python",
   "name": "python",
   "nbconvert_exporter": "python",
   "pygments_lexer": "ipython3",
   "version": "3.10.4"
  }
 },
 "nbformat": 4,
 "nbformat_minor": 5
}

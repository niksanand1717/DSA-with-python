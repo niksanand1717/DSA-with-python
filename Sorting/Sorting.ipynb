{
 "cells": [
  {
   "cell_type": "markdown",
   "metadata": {},
   "source": [
    "#### Selection Sort"
   ]
  },
  {
   "cell_type": "markdown",
   "metadata": {},
   "source": [
    "1. $\\theta$ (n*n) algorithm <br/>\n",
    "2. Does less memory writes compared to Quick Sort, Merge Sort, Insertion Sort, etc. But Cycle Sort is optimal in terms of memory writes. <br />\n",
    "3. Basic idea for Heap Sort. <br />\n",
    "4. Not Stable and In-place.\n",
    "\n",
    "> Idea : Finding a minimum element and placing it at beginning of array, then finding second minimum element and putting it on second index and swaping the element present on it."
   ]
  },
  {
   "cell_type": "code",
   "execution_count": 21,
   "metadata": {},
   "outputs": [],
   "source": [
    "def selection_sort_self(nums):\n",
    "    length = len(nums)\n",
    "    for i in range(length - 1):\n",
    "        min_index = i\n",
    "        for j in range(i+1, length):\n",
    "            if nums[j] < nums[min_index]:\n",
    "                min_index = j\n",
    "        nums[i], nums[min_index] = nums[min_index], nums[i]\n",
    "    return nums"
   ]
  },
  {
   "cell_type": "code",
   "execution_count": 22,
   "metadata": {},
   "outputs": [
    {
     "name": "stdout",
     "output_type": "stream",
     "text": [
      "[0, 10, 32, 45, 56, 85, 100]\n"
     ]
    }
   ],
   "source": [
    "a = [100, 56, 85, 32, 10, 0, 45]\n",
    "print(selection_sort_self(a))"
   ]
  },
  {
   "cell_type": "code",
   "execution_count": null,
   "metadata": {},
   "outputs": [],
   "source": []
  }
 ],
 "metadata": {
  "interpreter": {
   "hash": "55336cb86c577551e708e4750cbcf8213928a118b1927edf481c86879401abc8"
  },
  "kernelspec": {
   "display_name": "Python 3.10.4 ('venv': venv)",
   "language": "python",
   "name": "python3"
  },
  "language_info": {
   "codemirror_mode": {
    "name": "ipython",
    "version": 3
   },
   "file_extension": ".py",
   "mimetype": "text/x-python",
   "name": "python",
   "nbconvert_exporter": "python",
   "pygments_lexer": "ipython3",
   "version": "3.10.4"
  },
  "orig_nbformat": 4
 },
 "nbformat": 4,
 "nbformat_minor": 2
}

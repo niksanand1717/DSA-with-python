{
 "cells": [
  {
   "cell_type": "markdown",
   "id": "ff01a10e-3486-48a6-bce2-fe971a28c02d",
   "metadata": {},
   "source": [
    "#### Iterative Binary Search"
   ]
  },
  {
   "cell_type": "code",
   "execution_count": null,
   "id": "22cbc10b-2b33-4217-8e0c-d73d7c660b03",
   "metadata": {},
   "outputs": [],
   "source": [
    "def iterativebinarysearch(nums, key):\n",
    "    low = 0\n",
    "    high = len(nums) - 1\n",
    "    while low <= high:\n",
    "        mid = (low+high)//2\n",
    "        if nums[mid] == key:\n",
    "            return mid\n",
    "        elif nums[mid] > key:\n",
    "            \n",
    "            "
   ]
  }
 ],
 "metadata": {
  "kernelspec": {
   "display_name": "Python 3 (ipykernel)",
   "language": "python",
   "name": "python3"
  },
  "language_info": {
   "codemirror_mode": {
    "name": "ipython",
    "version": 3
   },
   "file_extension": ".py",
   "mimetype": "text/x-python",
   "name": "python",
   "nbconvert_exporter": "python",
   "pygments_lexer": "ipython3",
   "version": "3.10.4"
  }
 },
 "nbformat": 4,
 "nbformat_minor": 5
}

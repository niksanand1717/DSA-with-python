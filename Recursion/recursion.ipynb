{
 "cells": [
  {
   "cell_type": "markdown",
   "metadata": {},
   "source": [
    "### Recusion"
   ]
  },
  {
   "cell_type": "code",
   "execution_count": 2,
   "metadata": {},
   "outputs": [],
   "source": [
    "def fun():\n",
    "    print(\"GFG\")\n",
    "    fun()"
   ]
  },
  {
   "cell_type": "code",
   "execution_count": null,
   "metadata": {},
   "outputs": [
    {
     "ename": "Error",
     "evalue": "Canceled future for execute_request message before replies were done",
     "output_type": "error",
     "traceback": [
      "Error: Canceled future for execute_request message before replies were done",
      "at t.KernelShellFutureHandler.dispose (c:\\Users\\Nikhil Anand\\.vscode-oss\\extensions\\ms-toolsai.jupyter-2022.3.1000901801-universal\\out\\extension.js:2:1204175)",
      "at c:\\Users\\Nikhil Anand\\.vscode-oss\\extensions\\ms-toolsai.jupyter-2022.3.1000901801-universal\\out\\extension.js:2:1223227",
      "at Map.forEach (<anonymous>)",
      "at v._clearKernelState (c:\\Users\\Nikhil Anand\\.vscode-oss\\extensions\\ms-toolsai.jupyter-2022.3.1000901801-universal\\out\\extension.js:2:1223212)",
      "at v.dispose (c:\\Users\\Nikhil Anand\\.vscode-oss\\extensions\\ms-toolsai.jupyter-2022.3.1000901801-universal\\out\\extension.js:2:1216694)",
      "at c:\\Users\\Nikhil Anand\\.vscode-oss\\extensions\\ms-toolsai.jupyter-2022.3.1000901801-universal\\out\\extension.js:2:533674",
      "at t.swallowExceptions (c:\\Users\\Nikhil Anand\\.vscode-oss\\extensions\\ms-toolsai.jupyter-2022.3.1000901801-universal\\out\\extension.js:2:913059)",
      "at dispose (c:\\Users\\Nikhil Anand\\.vscode-oss\\extensions\\ms-toolsai.jupyter-2022.3.1000901801-universal\\out\\extension.js:2:533652)",
      "at t.RawSession.dispose (c:\\Users\\Nikhil Anand\\.vscode-oss\\extensions\\ms-toolsai.jupyter-2022.3.1000901801-universal\\out\\extension.js:2:537330)",
      "at processTicksAndRejections (node:internal/process/task_queues:96:5)"
     ]
    }
   ],
   "source": [
    "fun()"
   ]
  },
  {
   "cell_type": "markdown",
   "metadata": {},
   "source": [
    "`RecusionError:  maximum recursion depth exceeded while calling a Python object`"
   ]
  },
  {
   "cell_type": "markdown",
   "metadata": {},
   "source": [
    "##### Function to print \"GFG\" for certain number of times."
   ]
  },
  {
   "cell_type": "code",
   "execution_count": 13,
   "metadata": {},
   "outputs": [],
   "source": [
    "def func(number):\n",
    "    if number <= 0:\n",
    "        return \n",
    "    else:\n",
    "        func(number - 1)\n",
    "        # print(number)\n",
    "        print(\"GFG\")"
   ]
  },
  {
   "cell_type": "code",
   "execution_count": 14,
   "metadata": {},
   "outputs": [
    {
     "name": "stdout",
     "output_type": "stream",
     "text": [
      "GFG\n",
      "GFG\n",
      "GFG\n",
      "GFG\n",
      "GFG\n"
     ]
    }
   ],
   "source": [
    "func(5)"
   ]
  },
  {
   "cell_type": "markdown",
   "metadata": {},
   "source": [
    "#### Applications of Recursion"
   ]
  },
  {
   "cell_type": "markdown",
   "metadata": {},
   "source": [
    "1) Many algorithms techniques are based on recursion\n",
    ">   `Dynamic Programming`<br/>\n",
    ">    `Backtracking`<br/>\n",
    ">   `Divide and conquer(Binary search, Quick Sort and Merge Sort)`<br/>\n",
    "\n",
    "2) Many problems inherently recursive\n",
    ">   `Tower of Hanoi`<br/>\n",
    ">    `DFS based traversals (DFS of a graph and In-order/Pre-order/Post-order traversal of a tree)`<br/>"
   ]
  },
  {
   "cell_type": "markdown",
   "metadata": {},
   "source": [
    "\n"
   ]
  },
  {
   "cell_type": "markdown",
   "metadata": {},
   "source": [
    "Recursion Practice"
   ]
  },
  {
   "cell_type": "code",
   "execution_count": 17,
   "metadata": {},
   "outputs": [],
   "source": [
    "def fun1(n):\n",
    "    if n == 0:\n",
    "        return\n",
    "    print(n,end=\" \")\n",
    "    fun1(n - 1)\n",
    "    print(n, end=\" \")"
   ]
  },
  {
   "cell_type": "code",
   "execution_count": 18,
   "metadata": {},
   "outputs": [
    {
     "name": "stdout",
     "output_type": "stream",
     "text": [
      "3 2 1 1 2 3 "
     ]
    }
   ],
   "source": [
    "fun1(3)"
   ]
  },
  {
   "cell_type": "markdown",
   "metadata": {},
   "source": [
    "Recursion Practice 2"
   ]
  },
  {
   "cell_type": "code",
   "execution_count": 20,
   "metadata": {},
   "outputs": [],
   "source": [
    "def fun2(n):\n",
    "    if n == 0:\n",
    "        return\n",
    "    fun2(n - 1)\n",
    "    print(n, end=\" \")\n",
    "    fun2(n - 1)"
   ]
  },
  {
   "cell_type": "code",
   "execution_count": 21,
   "metadata": {},
   "outputs": [
    {
     "name": "stdout",
     "output_type": "stream",
     "text": [
      "1 2 1 3 1 2 1 "
     ]
    }
   ],
   "source": [
    "fun2(3)"
   ]
  },
  {
   "cell_type": "markdown",
   "metadata": {},
   "source": [
    "##### Recusion Program to print binary of any number"
   ]
  },
  {
   "cell_type": "code",
   "execution_count": 25,
   "metadata": {},
   "outputs": [],
   "source": [
    "def binaryof(num):\n",
    "    if num == 0:\n",
    "        return\n",
    "    binaryof(num//2)\n",
    "    print(num%2, end=\"\")"
   ]
  },
  {
   "cell_type": "code",
   "execution_count": 27,
   "metadata": {},
   "outputs": [
    {
     "name": "stdout",
     "output_type": "stream",
     "text": [
      "1010"
     ]
    }
   ],
   "source": [
    "binaryof(10)"
   ]
  },
  {
   "cell_type": "code",
   "execution_count": null,
   "metadata": {},
   "outputs": [],
   "source": []
  }
 ],
 "metadata": {
  "interpreter": {
   "hash": "893d973a358b49714e5abb2bb54f0d3c57ce79acb8c36007a2b5c4294b36e18d"
  },
  "kernelspec": {
   "display_name": "Python 3.10.4 64-bit",
   "language": "python",
   "name": "python3"
  },
  "language_info": {
   "codemirror_mode": {
    "name": "ipython",
    "version": 3
   },
   "file_extension": ".py",
   "mimetype": "text/x-python",
   "name": "python",
   "nbconvert_exporter": "python",
   "pygments_lexer": "ipython3",
   "version": "3.10.4"
  },
  "orig_nbformat": 4
 },
 "nbformat": 4,
 "nbformat_minor": 2
}

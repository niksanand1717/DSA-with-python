{
 "cells": [
  {
   "cell_type": "markdown",
   "id": "07556a11-04cf-49a4-883c-6f1322240716",
   "metadata": {},
   "source": [
    "# Hashing"
   ]
  },
  {
   "cell_type": "markdown",
   "id": "cf995d78-64a3-435e-a3b8-fe6a5bd37f73",
   "metadata": {},
   "source": [
    "## Introduction to Hashing"
   ]
  },
  {
   "cell_type": "markdown",
   "id": "8bba3f97-d30d-4aca-b7ef-c981ce250d22",
   "metadata": {},
   "source": [
    "Search, insert and delete } O(1) (time complexity) on average<br/>\n",
    "beats all Data Structures "
   ]
  },
  {
   "cell_type": "markdown",
   "id": "f78814e0-088a-49f5-be77-8785d51d2c36",
   "metadata": {},
   "source": [
    "Hashing is a technique or process of mapping keys, and values into the hash table by using a hash function.<br/>\n",
    "It is done for faster access to elements. The efficiency of mapping depends on the efficiency of the hash function used."
   ]
  },
  {
   "cell_type": "markdown",
   "id": "b93584f6-5dca-461d-9003-ab6700a499fd",
   "metadata": {},
   "source": [
    "## Not useful for:\n",
    "> Finding closest value <br/>\n",
    "> Sorted Data (as keys are not sorted with values) <br/>\n",
    "> Prefix Searching <br/>"
   ]
  },
  {
   "cell_type": "markdown",
   "id": "2199289a-667c-4bde-951b-d8032651e756",
   "metadata": {},
   "source": [
    "## Applications of Hashing\n",
    "1. Dictionaries\n",
    "2. Database Indexing\n",
    "3. Cryptography\n",
    "4. Caches\n",
    "5. Symbol Tables in compilers/interpreters\n",
    "6. Routers\n",
    "7. Getting data from databases\n",
    "8. Many more"
   ]
  },
  {
   "cell_type": "markdown",
   "id": "6e3ea583-2f56-4693-9e61-d91e2b130d6a",
   "metadata": {},
   "source": [
    "## How Hash Fuction work?\n",
    "1. Should always map a large key to same small key.\n",
    "2. Should generate values from 0 to m-1.\n",
    "3. Should be fast, O(1) for integers and O(len) for string of length 'len'.\n",
    "4. Should uniformly distribute large keys into Hash Table slots."
   ]
  },
  {
   "cell_type": "markdown",
   "id": "bd1f6797-7b7c-4516-b9be-e93c046f1ced",
   "metadata": {},
   "source": [
    "## Collision Handling\n",
    "> If we know keys in advance, then we can Perfect Hashing (English Words dictionary, using some preprocessing) <br/>\n",
    "> If we don't know keys, then we will use any of the following:\n",
    ">> - Chaining\n",
    ">> - Open Addressing\n",
    ">>> - Linear Probing\n",
    ">>> - Quadratic Probing\n",
    ">>> - Double Hashing"
   ]
  },
  {
   "cell_type": "markdown",
   "id": "18730404-2aa2-4068-b126-d5c9a55da023",
   "metadata": {},
   "source": [
    "## Chain Hashing"
   ]
  },
  {
   "cell_type": "code",
   "execution_count": null,
   "id": "a161462a-f809-4965-802a-ab43bfeda885",
   "metadata": {},
   "outputs": [],
   "source": [
    "class MyHash:\n",
    "    def __init__(self, b):\n",
    "        self.BUCKET = b\n",
    "        self.table = [[] for x in range(b)]\n",
    "    \n",
    "    def insert(self, x):\n",
    "        i = x % self.BUCKET\n",
    "        self.table[i].append(x)\n",
    "        \n",
    "    def remove(self, x):\n",
    "        i = x % self.BUCKET\n",
    "        if x in self.table[i]:\n",
    "            self.table[i].remove(x)\n",
    "        \n",
    "    def search(self, x):\n",
    "        i = x % self.BUCKET\n",
    "        return x in self.table[i]\n",
    "    \n",
    "    def show(self):\n",
    "        print([x for x in self.table])"
   ]
  },
  {
   "cell_type": "code",
   "execution_count": null,
   "id": "7662ca8f-01bc-44bf-8317-d5defbad9f9f",
   "metadata": {},
   "outputs": [],
   "source": [
    "h = MyHash(7)\n",
    "h.insert(70)\n",
    "h.insert(71)\n",
    "h.insert(9)\n",
    "h.insert(56)\n",
    "h.insert(72)"
   ]
  },
  {
   "cell_type": "code",
   "execution_count": null,
   "id": "8b85c0f5-1dea-4941-b516-4fd5c61d2815",
   "metadata": {},
   "outputs": [],
   "source": [
    "h.show()"
   ]
  },
  {
   "cell_type": "code",
   "execution_count": null,
   "id": "d8612bc3-fc44-4bad-bf5c-d77e7554aa56",
   "metadata": {},
   "outputs": [],
   "source": [
    "h.remove(56)"
   ]
  },
  {
   "cell_type": "code",
   "execution_count": null,
   "id": "0e7d9d44-4a15-4105-baa4-e56e9f97179f",
   "metadata": {},
   "outputs": [],
   "source": [
    "h.show()"
   ]
  },
  {
   "cell_type": "code",
   "execution_count": null,
   "id": "6e3b4f5e-6a3d-4d05-9d98-678a75748bc1",
   "metadata": {},
   "outputs": [],
   "source": [
    "h.search(9)"
   ]
  },
  {
   "cell_type": "code",
   "execution_count": null,
   "id": "3fd77ea4-56e7-4ccd-a4ce-5b8c143260a2",
   "metadata": {},
   "outputs": [],
   "source": [
    "h.remove([])"
   ]
  },
  {
   "cell_type": "markdown",
   "id": "89ea3bca-1f8b-488f-899e-2c84b52c030c",
   "metadata": {},
   "source": [
    "## Implementation of Open Addressing"
   ]
  },
  {
   "cell_type": "markdown",
   "id": "1da2e45e-3818-4a8c-92b9-4f94c4bfd6c6",
   "metadata": {},
   "source": [
    "### Linear Probing"
   ]
  },
  {
   "cell_type": "code",
   "execution_count": 11,
   "id": "af594392-3abc-44d7-b7cc-26a596b54c81",
   "metadata": {},
   "outputs": [],
   "source": [
    "class LinearProbing:\n",
    "    def __init__(self, c):\n",
    "        self.cap = c\n",
    "        self.table = [-1] * c\n",
    "        self.size = 0\n",
    "        \n",
    "    def hash(self, key):\n",
    "        return key % self.cap\n",
    "    \n",
    "    def search(self, key):\n",
    "        h = self.hash(key)\n",
    "        t = self.table\n",
    "        i = h\n",
    "        while t[i] != -1:\n",
    "            if t[i] == key:\n",
    "                return True\n",
    "            i = (i+1) % self.cap\n",
    "            if i == h:\n",
    "                return False\n",
    "        return False\n",
    "    \n",
    "    def insert(self, key):\n",
    "        if self.size == self.cap: # when hash table is full \n",
    "            return False\n",
    "        \n",
    "        if self.search(key) == True: # when key is already present\n",
    "            return False\n",
    "        \n",
    "        i = self.hash(key)\n",
    "        t = self.table\n",
    "        while t[i] not in (-1, -2): # -1 : empty and -2 is deleted position both type of positions can be used to insert key\n",
    "            i = (i + 1) % self.cap\n",
    "        t[i] = key\n",
    "        self.size += 1\n",
    "        return True\n",
    "    \n",
    "    def show(self):\n",
    "        print([_ for _ in self.table])\n",
    "        \n",
    "    def delete(self, key):\n",
    "        if self.search(key) != True:\n",
    "            return False\n",
    "        h = self.hash(key)\n",
    "        t = self.table\n",
    "        i = h\n",
    "        while t[i] != -1:\n",
    "            if t[i] == key:\n",
    "                t[i] = -2\n",
    "                return True\n",
    "            i = (i+1) % self.cap\n",
    "            if i == h:\n",
    "                return False"
   ]
  },
  {
   "cell_type": "code",
   "execution_count": 12,
   "id": "201e52ad-ddf2-4a0e-bd67-10791c2cc0c2",
   "metadata": {},
   "outputs": [
    {
     "data": {
      "text/plain": [
       "True"
      ]
     },
     "execution_count": 12,
     "metadata": {},
     "output_type": "execute_result"
    }
   ],
   "source": [
    "lp = LinearProbing(7)\n",
    "lp.insert(49)\n",
    "lp.insert(50)\n",
    "lp.insert(63)\n",
    "lp.insert(64)\n",
    "lp.insert(69)\n",
    "lp.insert(68)"
   ]
  },
  {
   "cell_type": "code",
   "execution_count": 13,
   "id": "0c652bcb-351e-41c0-97ec-40676824db34",
   "metadata": {},
   "outputs": [
    {
     "name": "stdout",
     "output_type": "stream",
     "text": [
      "[49, 50, 63, 64, -1, 68, 69]\n"
     ]
    }
   ],
   "source": [
    "(lp.show())"
   ]
  },
  {
   "cell_type": "code",
   "execution_count": 14,
   "id": "0be4f6d7-6dd1-456a-a94b-20df446387f5",
   "metadata": {},
   "outputs": [
    {
     "data": {
      "text/plain": [
       "False"
      ]
     },
     "execution_count": 14,
     "metadata": {},
     "output_type": "execute_result"
    }
   ],
   "source": [
    "lp.search(95)"
   ]
  },
  {
   "cell_type": "code",
   "execution_count": 15,
   "id": "8d62aeba-1b2d-4498-93db-63435ebd0213",
   "metadata": {},
   "outputs": [
    {
     "data": {
      "text/plain": [
       "True"
      ]
     },
     "execution_count": 15,
     "metadata": {},
     "output_type": "execute_result"
    }
   ],
   "source": [
    "lp.search(63)"
   ]
  },
  {
   "cell_type": "code",
   "execution_count": 16,
   "id": "f9a06dcc-61ef-40d0-b092-bb1ade5a31e9",
   "metadata": {},
   "outputs": [
    {
     "data": {
      "text/plain": [
       "True"
      ]
     },
     "execution_count": 16,
     "metadata": {},
     "output_type": "execute_result"
    }
   ],
   "source": [
    "lp.delete(63)"
   ]
  },
  {
   "cell_type": "code",
   "execution_count": 17,
   "id": "e8c087ab-49a9-4cba-ac2c-69778330a49e",
   "metadata": {},
   "outputs": [
    {
     "name": "stdout",
     "output_type": "stream",
     "text": [
      "[49, 50, -2, 64, -1, 68, 69]\n"
     ]
    }
   ],
   "source": [
    "lp.show()"
   ]
  },
  {
   "cell_type": "code",
   "execution_count": 18,
   "id": "dd43c268-87a8-4baa-9b3e-4484d2ce983d",
   "metadata": {},
   "outputs": [
    {
     "data": {
      "text/plain": [
       "True"
      ]
     },
     "execution_count": 18,
     "metadata": {},
     "output_type": "execute_result"
    }
   ],
   "source": [
    "lp.insert(95)"
   ]
  },
  {
   "cell_type": "code",
   "execution_count": 19,
   "id": "72d77e72-3882-4315-a257-75ebdb443abd",
   "metadata": {},
   "outputs": [
    {
     "name": "stdout",
     "output_type": "stream",
     "text": [
      "[49, 50, -2, 64, 95, 68, 69]\n"
     ]
    }
   ],
   "source": [
    "lp.show()"
   ]
  },
  {
   "cell_type": "code",
   "execution_count": null,
   "id": "863de2b9-0c60-4d11-a9ad-35a8245cc1b5",
   "metadata": {},
   "outputs": [],
   "source": []
  },
  {
   "cell_type": "code",
   "execution_count": null,
   "id": "a96e4b5b-1a47-48be-9ed3-661782be3faf",
   "metadata": {},
   "outputs": [],
   "source": [
    "print([-1 for x in range(7)])"
   ]
  },
  {
   "cell_type": "code",
   "execution_count": null,
   "id": "a18ebb64-1c09-495e-b209-113641c38cd9",
   "metadata": {},
   "outputs": [],
   "source": [
    "class DoubleHashing:\n",
    "    def __init__(self, size):\n",
    "        self.BUCKET = size\n",
    "        self.table = [ -1 for _ in range(self.BUCKET)]\n",
    "        self.m = 7\n",
    "        self.n = 6\n",
    "        self.i = 0\n",
    "        \n",
    "    def hash_1(self, key):\n",
    "        self.pos = key % self.m\n",
    "        return self.pos\n",
    "    \n",
    "    def hash_2(self, key, i):\n",
    "        self.offset = self.i * (6 - (key % self.n))\n",
    "        return self.offset\n",
    "    \n",
    "    def hash_fun(self, key):\n",
    "        self.pos = self.hash_1(key)\n",
    "        if self.table[self.pos] == -1 or self.table[self.pos] == -2:\n",
    "            self.table[self.pos] = key\n",
    "        else:\n",
    "            self.i += 1\n",
    "            self.offset = self.hash_2(key, self.i)\n",
    "            self.newpos = (self.pos + self.offset) % self.m\n",
    "            while(self.table[self.newpos] != -1 or self.table[self.newpos] != -2):\n",
    "                self.i += 1\n",
    "                self.offset = self.hash_2(key, self.i)\n",
    "                self.newpos = (self.pos + self.offset) % self.m\n",
    "                if self.table[self.newpos] == -1 or self.table[self.newpos] == -2:\n",
    "                    self.table[self.newpos] = key\n",
    "            if self.table[self.pos] == -1 or self.table[self.pos] == -2:\n",
    "                self.table[self.pos] = key\n",
    "            self.i = 0\n",
    "    \n",
    "    def insert(self, key):\n",
    "        self.hash_fun(key)\n",
    "        \n",
    "    def show(self):\n",
    "        print([_ for _ in self.table])"
   ]
  },
  {
   "cell_type": "code",
   "execution_count": null,
   "id": "3b6314f9-6f30-4cfe-a6df-03e5e2ca1ea8",
   "metadata": {},
   "outputs": [],
   "source": [
    "hash_tab = DoubleHashing(50)"
   ]
  },
  {
   "cell_type": "code",
   "execution_count": null,
   "id": "806e8aea-74a2-434f-ace9-4912f56835d0",
   "metadata": {},
   "outputs": [],
   "source": [
    "hash_tab.show()"
   ]
  },
  {
   "cell_type": "code",
   "execution_count": null,
   "id": "19099a1f-bfb1-4967-9cdf-cc4026421b70",
   "metadata": {},
   "outputs": [],
   "source": [
    "hash_tab.insert(49)"
   ]
  },
  {
   "cell_type": "code",
   "execution_count": null,
   "id": "2845e49b-b72d-4f66-a5ca-1b7ffe750511",
   "metadata": {},
   "outputs": [],
   "source": [
    "hash_tab.show()"
   ]
  },
  {
   "cell_type": "code",
   "execution_count": null,
   "id": "50f18083-ccf7-4039-a963-7e0fd73a75c5",
   "metadata": {},
   "outputs": [],
   "source": [
    "# hash_tab.insert(63)\n",
    "# hash_tab.insert(56)\n",
    "# hash_tab.insert(52)\n",
    "# hash_tab.insert(54)\n",
    "hash_tab.insert(49)"
   ]
  },
  {
   "cell_type": "code",
   "execution_count": null,
   "id": "4712e8e7-9c10-42f5-9210-21b816975034",
   "metadata": {},
   "outputs": [],
   "source": []
  }
 ],
 "metadata": {
  "kernelspec": {
   "display_name": "Python 3 (ipykernel)",
   "language": "python",
   "name": "python3"
  },
  "language_info": {
   "codemirror_mode": {
    "name": "ipython",
    "version": 3
   },
   "file_extension": ".py",
   "mimetype": "text/x-python",
   "name": "python",
   "nbconvert_exporter": "python",
   "pygments_lexer": "ipython3",
   "version": "3.10.4"
  },
  "toc-showmarkdowntxt": false,
  "toc-showtags": false
 },
 "nbformat": 4,
 "nbformat_minor": 5
}

{
 "cells": [
  {
   "cell_type": "markdown",
   "metadata": {},
   "source": [
    "#### Selection Sort"
   ]
  },
  {
   "cell_type": "markdown",
   "metadata": {},
   "source": [
    "1. $\\theta$ (n*n) algorithm <br/>\n",
    "2. Does less memory writes compared to Quick Sort, Merge Sort, Insertion Sort, etc. But Cycle Sort is optimal in terms of memory writes. <br />\n",
    "3. Basic idea for Heap Sort. <br />\n",
    "4. Not Stable(Orders of elements can be changed if elements are same) and In-place.\n",
    "\n",
    "> Idea : Finding a minimum element and placing it at beginning of array, then finding second minimum element and putting it on second index and swaping the element present on it."
   ]
  },
  {
   "cell_type": "code",
   "execution_count": 21,
   "metadata": {},
   "outputs": [],
   "source": [
    "def selection_sort_self(nums):\n",
    "    length = len(nums)\n",
    "    for i in range(length - 1):\n",
    "        min_index = i\n",
    "        for j in range(i+1, length):\n",
    "            if nums[j] < nums[min_index]:\n",
    "                min_index = j\n",
    "        nums[i], nums[min_index] = nums[min_index], nums[i]\n",
    "    return nums"
   ]
  },
  {
   "cell_type": "code",
   "execution_count": 22,
   "metadata": {},
   "outputs": [
    {
     "name": "stdout",
     "output_type": "stream",
     "text": [
      "[0, 10, 32, 45, 56, 85, 100]\n"
     ]
    }
   ],
   "source": [
    "a = [100, 56, 85, 32, 10, 0, 45]\n",
    "print(selection_sort_self(a))"
   ]
  },
  {
   "cell_type": "markdown",
   "metadata": {},
   "source": [
    "#### Insertion Sort"
   ]
  },
  {
   "cell_type": "markdown",
   "metadata": {},
   "source": [
    "1. O(n*n) algorithm.<br />\n",
    "2. In-place and Stable.<br />\n",
    "3. Used in practice from small arrays(Tim Sort(merge and insertion) and Intro Sort(heap, quick and insertion sort).<br />\n",
    "4. $\\theta$(n) best-case scenario.\n",
    "5. $\\theta$(n*n) worst-case scenario."
   ]
  },
  {
   "cell_type": "markdown",
   "metadata": {},
   "source": [
    "Main idea of this sorting algorithm is to maintain two parts of the array that needs to be sorted.<br />\n",
    "`(0 to i - 1)` sorted and `(i to n-1)` unsorted.<br />\n",
    "run the `i`(external) loop from `1` to `n-1`.<br />\n",
    "in `j` (internal) loop for every `i` run to compare element at `i` with it's preceeding element and left shift if the preceeding element is greater."
   ]
  },
  {
   "cell_type": "code",
   "execution_count": 24,
   "metadata": {},
   "outputs": [],
   "source": [
    "# Self implementation of Insertion Sort\n",
    "\n",
    "def insertion_sort(nums):\n",
    "    for i in range(1, len(nums)):\n",
    "        elem_i = nums[i]\n",
    "        j = i - 1\n",
    "        while j >= 0 and nums[j] > elem_i:\n",
    "            nums[j+1] = nums[j]\n",
    "            j = j - 1\n",
    "        nums[j+1] = elem_i\n",
    "    return nums"
   ]
  },
  {
   "cell_type": "code",
   "execution_count": 25,
   "metadata": {},
   "outputs": [
    {
     "data": {
      "text/plain": [
       "[5, 10, 20, 30, 40, 60, 70]"
      ]
     },
     "execution_count": 25,
     "metadata": {},
     "output_type": "execute_result"
    }
   ],
   "source": [
    "insertion_sort([20, 5, 30, 40, 60, 10, 70])"
   ]
  },
  {
   "cell_type": "markdown",
   "metadata": {},
   "source": [
    "##### Merge Two sorted array"
   ]
  },
  {
   "cell_type": "markdown",
   "metadata": {},
   "source": []
  }
 ],
 "metadata": {
  "interpreter": {
   "hash": "55336cb86c577551e708e4750cbcf8213928a118b1927edf481c86879401abc8"
  },
  "kernelspec": {
   "display_name": "Python 3.10.4 ('venv': venv)",
   "language": "python",
   "name": "python3"
  },
  "language_info": {
   "codemirror_mode": {
    "name": "ipython",
    "version": 3
   },
   "file_extension": ".py",
   "mimetype": "text/x-python",
   "name": "python",
   "nbconvert_exporter": "python",
   "pygments_lexer": "ipython3",
   "version": "3.10.4"
  },
  "orig_nbformat": 4
 },
 "nbformat": 4,
 "nbformat_minor": 2
}

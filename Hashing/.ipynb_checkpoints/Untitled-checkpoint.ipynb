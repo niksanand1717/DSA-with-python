{
 "cells": [
  {
   "cell_type": "code",
   "execution_count": 1,
   "id": "d93cc484-1741-45b4-b7db-db515c1b3d7d",
   "metadata": {},
   "outputs": [],
   "source": [
    "import _sha512"
   ]
  },
  {
   "cell_type": "code",
   "execution_count": 5,
   "id": "a26fd847-045e-4422-bf06-316660666d10",
   "metadata": {},
   "outputs": [],
   "source": [
    "s = _sha512.sha512()"
   ]
  },
  {
   "cell_type": "code",
   "execution_count": 6,
   "id": "14a6d178-596d-4311-97c9-88db5b692613",
   "metadata": {},
   "outputs": [
    {
     "ename": "TypeError",
     "evalue": "'_sha512.sha512' object is not callable",
     "output_type": "error",
     "traceback": [
      "\u001b[1;31m---------------------------------------------------------------------------\u001b[0m",
      "\u001b[1;31mTypeError\u001b[0m                                 Traceback (most recent call last)",
      "Input \u001b[1;32mIn [6]\u001b[0m, in \u001b[0;36m<cell line: 1>\u001b[1;34m()\u001b[0m\n\u001b[1;32m----> 1\u001b[0m \u001b[38;5;28mprint\u001b[39m(\u001b[43ms\u001b[49m\u001b[43m(\u001b[49m\u001b[38;5;124;43m'\u001b[39;49m\u001b[38;5;124;43msome.txt\u001b[39;49m\u001b[38;5;124;43m'\u001b[39;49m\u001b[43m)\u001b[49m)\n",
      "\u001b[1;31mTypeError\u001b[0m: '_sha512.sha512' object is not callable"
     ]
    }
   ],
   "source": [
    "print()"
   ]
  },
  {
   "cell_type": "code",
   "execution_count": null,
   "id": "1333f3fe-2f39-4ef1-8a90-674ec6f72ee0",
   "metadata": {},
   "outputs": [],
   "source": []
  }
 ],
 "metadata": {
  "kernelspec": {
   "display_name": "Python 3 (ipykernel)",
   "language": "python",
   "name": "python3"
  },
  "language_info": {
   "codemirror_mode": {
    "name": "ipython",
    "version": 3
   },
   "file_extension": ".py",
   "mimetype": "text/x-python",
   "name": "python",
   "nbconvert_exporter": "python",
   "pygments_lexer": "ipython3",
   "version": "3.10.4"
  }
 },
 "nbformat": 4,
 "nbformat_minor": 5
}
